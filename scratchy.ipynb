{
 "cells": [
  {
   "cell_type": "code",
   "execution_count": 1,
   "metadata": {},
   "outputs": [],
   "source": [
    "from hype.graph import eval_reconstruction, load_adjacency_matrix, load_edge_list\n",
    "import numpy as np\n",
    "import torch\n",
    "import os\n",
    "from hype.lorentz import LorentzManifold\n",
    "from hype.euclidean import EuclideanManifold, TranseManifold\n",
    "from hype.poincare import PoincareManifold\n",
    "import timeit\n",
    "import argparse\n",
    "from argparse import Namespace"
   ]
  },
  {
   "cell_type": "code",
   "execution_count": 2,
   "metadata": {},
   "outputs": [],
   "source": [
    "MANIFOLDS = {\n",
    "    'lorentz': LorentzManifold,\n",
    "    'euclidean': EuclideanManifold,\n",
    "    'transe': TranseManifold,\n",
    "    'poincare': PoincareManifold\n",
    "}"
   ]
  },
  {
   "cell_type": "code",
   "execution_count": 3,
   "metadata": {},
   "outputs": [],
   "source": [
    "np.random.seed(42)"
   ]
  },
  {
   "cell_type": "code",
   "execution_count": 4,
   "metadata": {},
   "outputs": [],
   "source": [
    "idx, objects, weights = load_edge_list(\"wordnet/mammal_closure.csv\")"
   ]
  },
  {
   "cell_type": "code",
   "execution_count": 5,
   "metadata": {},
   "outputs": [
    {
     "data": {
      "text/plain": [
       "(6540, 1180, 6540)"
      ]
     },
     "execution_count": 5,
     "metadata": {},
     "output_type": "execute_result"
    }
   ],
   "source": [
    "len(idx), len(objects), len(weights)"
   ]
  },
  {
   "cell_type": "code",
   "execution_count": 6,
   "metadata": {},
   "outputs": [],
   "source": [
    "namedEdges = []\n",
    "for row in idx:\n",
    "    namedEdges.append(objects[row[0]])"
   ]
  },
  {
   "cell_type": "code",
   "execution_count": 7,
   "metadata": {},
   "outputs": [
    {
     "data": {
      "text/plain": [
       "[('rodent.n.01', 'mammal.n.01'), ('rodent.n.01', 'placental.n.01')]"
      ]
     },
     "execution_count": 7,
     "metadata": {},
     "output_type": "execute_result"
    }
   ],
   "source": [
    "[(objects[row[0]], objects[row[1]]) for i, row in enumerate(idx) if 'rodent.n.01' == objects[row[0]]]"
   ]
  },
  {
   "cell_type": "code",
   "execution_count": 8,
   "metadata": {},
   "outputs": [],
   "source": [
    "mammals_opt = Namespace(batchsize=10, \n",
    "                        burnin=20, \n",
    "                        burnin_multiplier=0.01, \n",
    "                        checkpoint='mammals_euclidean_TEST.pth', \n",
    "                        dampening=0.75, \n",
    "                        debug=False, \n",
    "                        dim=20, \n",
    "                        dset='wordnet/mammal_closure.csv', \n",
    "                        epochs=300, \n",
    "                        eval_each=1, \n",
    "                        fresh=True, \n",
    "                        gpu=-1, \n",
    "                        lr=0.3, \n",
    "                        lr_type='constant', \n",
    "                        manifold='euclidean', \n",
    "                        maxnorm=500000, \n",
    "                        ndproc=1, \n",
    "                        neg_multiplier=1.0, \n",
    "                        negs=50, \n",
    "                        quiet=False, \n",
    "                        sparse=True, \n",
    "                        sym=False, \n",
    "                        train_threads=1)\n",
    "opt = mammals_opt"
   ]
  },
  {
   "cell_type": "markdown",
   "metadata": {},
   "source": [
    "### Simulate embed.py"
   ]
  },
  {
   "cell_type": "code",
   "execution_count": 9,
   "metadata": {},
   "outputs": [],
   "source": [
    "import torch as th\n",
    "import numpy as np\n",
    "import logging\n",
    "import argparse\n",
    "from hype.sn import Embedding, initialize\n",
    "from hype.adjacency_matrix_dataset import AdjacencyDataset\n",
    "from hype import train\n",
    "from hype.graph import load_adjacency_matrix, load_edge_list, eval_reconstruction\n",
    "from hype.checkpoint import LocalCheckpoint\n",
    "from hype.rsgd import RiemannianSGD\n",
    "from hype.lorentz import LorentzManifold\n",
    "from hype.euclidean import EuclideanManifold\n",
    "from hype.poincare import PoincareManifold\n",
    "import sys\n",
    "import json\n",
    "import torch.multiprocessing as mp\n",
    "import shutil"
   ]
  },
  {
   "cell_type": "code",
   "execution_count": 10,
   "metadata": {},
   "outputs": [],
   "source": [
    "th.manual_seed(42)\n",
    "np.random.seed(42)"
   ]
  },
  {
   "cell_type": "code",
   "execution_count": 11,
   "metadata": {},
   "outputs": [],
   "source": [
    "log_level = logging.DEBUG if opt.debug else logging.INFO"
   ]
  },
  {
   "cell_type": "code",
   "execution_count": 12,
   "metadata": {},
   "outputs": [
    {
     "data": {
      "text/plain": [
       "(20, 10)"
      ]
     },
     "execution_count": 12,
     "metadata": {},
     "output_type": "execute_result"
    }
   ],
   "source": [
    "log_level, logging.DEBUG"
   ]
  },
  {
   "cell_type": "code",
   "execution_count": 13,
   "metadata": {},
   "outputs": [],
   "source": [
    "th.set_default_tensor_type('torch.DoubleTensor')\n",
    "# set device\n",
    "device = th.device(f'cuda:{opt.gpu}' if opt.gpu >= 0 else 'cpu')"
   ]
  },
  {
   "cell_type": "code",
   "execution_count": 14,
   "metadata": {},
   "outputs": [
    {
     "data": {
      "text/plain": [
       "device(type='cpu')"
      ]
     },
     "execution_count": 14,
     "metadata": {},
     "output_type": "execute_result"
    }
   ],
   "source": [
    "device"
   ]
  },
  {
   "cell_type": "code",
   "execution_count": 15,
   "metadata": {},
   "outputs": [
    {
     "data": {
      "text/plain": [
       "('euclidean', 500000)"
      ]
     },
     "execution_count": 15,
     "metadata": {},
     "output_type": "execute_result"
    }
   ],
   "source": [
    "opt.manifold, opt.maxnorm"
   ]
  },
  {
   "cell_type": "code",
   "execution_count": 16,
   "metadata": {},
   "outputs": [],
   "source": [
    "manifold = MANIFOLDS[opt.manifold](debug=opt.debug, max_norm=opt.maxnorm)"
   ]
  },
  {
   "cell_type": "code",
   "execution_count": 17,
   "metadata": {},
   "outputs": [
    {
     "data": {
      "text/plain": [
       "20"
      ]
     },
     "execution_count": 17,
     "metadata": {},
     "output_type": "execute_result"
    }
   ],
   "source": [
    "opt.dim"
   ]
  },
  {
   "cell_type": "code",
   "execution_count": 18,
   "metadata": {},
   "outputs": [
    {
     "data": {
      "text/plain": [
       "20"
      ]
     },
     "execution_count": 18,
     "metadata": {},
     "output_type": "execute_result"
    }
   ],
   "source": [
    "manifold.dim(opt.dim)"
   ]
  },
  {
   "cell_type": "code",
   "execution_count": 19,
   "metadata": {},
   "outputs": [],
   "source": [
    "idx, objects, weights = load_edge_list(opt.dset, opt.sym)"
   ]
  },
  {
   "cell_type": "code",
   "execution_count": 20,
   "metadata": {},
   "outputs": [
    {
     "data": {
      "text/plain": [
       "True"
      ]
     },
     "execution_count": 20,
     "metadata": {},
     "output_type": "execute_result"
    }
   ],
   "source": [
    "opt.sparse"
   ]
  },
  {
   "cell_type": "code",
   "execution_count": 21,
   "metadata": {},
   "outputs": [],
   "source": [
    "model_name = '%s_dim%d'\n",
    "mname = model_name % (opt.manifold, opt.dim)"
   ]
  },
  {
   "cell_type": "code",
   "execution_count": 22,
   "metadata": {},
   "outputs": [
    {
     "data": {
      "text/plain": [
       "'euclidean_dim20'"
      ]
     },
     "execution_count": 22,
     "metadata": {},
     "output_type": "execute_result"
    }
   ],
   "source": [
    "mname"
   ]
  },
  {
   "cell_type": "code",
   "execution_count": 23,
   "metadata": {},
   "outputs": [],
   "source": [
    "from hype.graph_dataset import BatchedDataset"
   ]
  },
  {
   "cell_type": "code",
   "execution_count": 24,
   "metadata": {},
   "outputs": [],
   "source": [
    "data = BatchedDataset(idx, objects, weights, opt.negs, opt.batchsize, opt.ndproc, opt.burnin > 0, opt.dampening)"
   ]
  },
  {
   "cell_type": "code",
   "execution_count": 25,
   "metadata": {},
   "outputs": [
    {
     "data": {
      "text/plain": [
       "(654, 6540, 1180)"
      ]
     },
     "execution_count": 25,
     "metadata": {},
     "output_type": "execute_result"
    }
   ],
   "source": [
    "len(data), len(idx), len(data.objects)"
   ]
  },
  {
   "cell_type": "code",
   "execution_count": 26,
   "metadata": {},
   "outputs": [
    {
     "data": {
      "text/plain": [
       "(1, 0.75, 20, 10)"
      ]
     },
     "execution_count": 26,
     "metadata": {},
     "output_type": "execute_result"
    }
   ],
   "source": [
    "opt.ndproc, opt.dampening, opt.burnin, opt.batchsize"
   ]
  },
  {
   "cell_type": "code",
   "execution_count": 27,
   "metadata": {},
   "outputs": [],
   "source": [
    "model = Embedding(\n",
    "        len(data.objects),\n",
    "        opt.dim,\n",
    "        manifold,\n",
    "        sparse=opt.sparse,\n",
    "    )"
   ]
  },
  {
   "cell_type": "code",
   "execution_count": 28,
   "metadata": {},
   "outputs": [
    {
     "data": {
      "text/plain": [
       "True"
      ]
     },
     "execution_count": 28,
     "metadata": {},
     "output_type": "execute_result"
    }
   ],
   "source": [
    "data.objects ==  objects"
   ]
  },
  {
   "cell_type": "code",
   "execution_count": 29,
   "metadata": {},
   "outputs": [
    {
     "data": {
      "text/plain": [
       "torch.Size([20])"
      ]
     },
     "execution_count": 29,
     "metadata": {},
     "output_type": "execute_result"
    }
   ],
   "source": [
    "model.lt.weight[0].shape"
   ]
  },
  {
   "cell_type": "code",
   "execution_count": 30,
   "metadata": {},
   "outputs": [],
   "source": [
    "model, data, model_name, conf = initialize(manifold, opt, idx, objects, weights, sparse=opt.sparse)"
   ]
  },
  {
   "cell_type": "code",
   "execution_count": 49,
   "metadata": {},
   "outputs": [
    {
     "data": {
      "text/plain": [
       "OrderedDict([('lt.weight',\n",
       "              tensor([[-3.6574e-05,  6.8414e-06,  7.9119e-05,  ...,  5.2993e-05,\n",
       "                        4.4430e-05, -7.0127e-05],\n",
       "                      [-6.2365e-08,  1.5901e-05, -7.8939e-05,  ..., -6.0997e-05,\n",
       "                        1.1931e-05,  9.9650e-05],\n",
       "                      [ 8.1180e-05, -6.9034e-05,  2.5763e-05,  ...,  7.2389e-07,\n",
       "                       -9.5650e-05, -3.2896e-05],\n",
       "                      ...,\n",
       "                      [-6.6476e-05, -1.4206e-05,  5.8814e-05,  ...,  7.7387e-05,\n",
       "                       -3.8088e-05,  4.6072e-05],\n",
       "                      [ 2.9567e-05, -2.7647e-05,  9.4709e-05,  ...,  3.6603e-05,\n",
       "                        1.8334e-05,  1.7496e-05],\n",
       "                      [-3.1755e-05, -5.8433e-05, -2.5533e-06,  ...,  4.1754e-05,\n",
       "                       -7.9741e-06, -1.6094e-05]]))])"
      ]
     },
     "execution_count": 49,
     "metadata": {},
     "output_type": "execute_result"
    }
   ],
   "source": [
    "model.state_dict()"
   ]
  },
  {
   "cell_type": "code",
   "execution_count": 31,
   "metadata": {},
   "outputs": [
    {
     "data": {
      "text/plain": [
       "(1.0, 0.01)"
      ]
     },
     "execution_count": 31,
     "metadata": {},
     "output_type": "execute_result"
    }
   ],
   "source": [
    "opt.neg_multiplier, opt.burnin_multiplier"
   ]
  },
  {
   "cell_type": "code",
   "execution_count": 32,
   "metadata": {},
   "outputs": [],
   "source": [
    "data.neg_multiplier = opt.neg_multiplier\n",
    "train._lr_multiplier = opt.burnin_multiplier"
   ]
  },
  {
   "cell_type": "code",
   "execution_count": 33,
   "metadata": {},
   "outputs": [
    {
     "data": {
      "text/plain": [
       "('constant', 0.3, True)"
      ]
     },
     "execution_count": 33,
     "metadata": {},
     "output_type": "execute_result"
    }
   ],
   "source": [
    "opt.lr_type, opt.lr, opt.fresh"
   ]
  },
  {
   "cell_type": "code",
   "execution_count": 34,
   "metadata": {},
   "outputs": [
    {
     "data": {
      "text/plain": [
       "654"
      ]
     },
     "execution_count": 34,
     "metadata": {},
     "output_type": "execute_result"
    }
   ],
   "source": [
    "len(data)"
   ]
  },
  {
   "cell_type": "code",
   "execution_count": 35,
   "metadata": {},
   "outputs": [],
   "source": [
    "adj = {}\n",
    "for inputs in idx:\n",
    "    x = inputs[0].item()\n",
    "    y = inputs[1].item()\n",
    "    if x in adj:\n",
    "        adj[x].add(y)\n",
    "    else:\n",
    "        adj[x] = {y}"
   ]
  },
  {
   "cell_type": "code",
   "execution_count": 36,
   "metadata": {},
   "outputs": [
    {
     "data": {
      "text/plain": [
       "(1179, 1180)"
      ]
     },
     "execution_count": 36,
     "metadata": {},
     "output_type": "execute_result"
    }
   ],
   "source": [
    "len(adj), len(objects)"
   ]
  },
  {
   "cell_type": "code",
   "execution_count": 37,
   "metadata": {},
   "outputs": [],
   "source": [
    "adj = {}\n",
    "for inputs, _ in data:\n",
    "    for row in inputs:\n",
    "        x = row[0].item()\n",
    "        y = row[1].item()\n",
    "        if x in adj:\n",
    "            adj[x].add(y)\n",
    "        else:\n",
    "            adj[x] = {y}"
   ]
  },
  {
   "cell_type": "code",
   "execution_count": 38,
   "metadata": {},
   "outputs": [
    {
     "data": {
      "text/plain": [
       "(1179, 1180)"
      ]
     },
     "execution_count": 38,
     "metadata": {},
     "output_type": "execute_result"
    }
   ],
   "source": [
    "len(adj), len(objects)"
   ]
  },
  {
   "cell_type": "code",
   "execution_count": 39,
   "metadata": {},
   "outputs": [
    {
     "data": {
      "text/plain": [
       "{'mammal.n.01'}"
      ]
     },
     "execution_count": 39,
     "metadata": {},
     "output_type": "execute_result"
    }
   ],
   "source": [
    "set(objects) - set(namedEdges)"
   ]
  },
  {
   "cell_type": "code",
   "execution_count": 40,
   "metadata": {},
   "outputs": [],
   "source": [
    "import matplotlib.pyplot as plt\n",
    "import seaborn as sns\n",
    "from collections import Counter"
   ]
  },
  {
   "cell_type": "code",
   "execution_count": 41,
   "metadata": {},
   "outputs": [
    {
     "data": {
      "text/plain": [
       "Counter({7: 222, 5: 268, 3: 90, 8: 120, 1: 4, 6: 223, 4: 194, 2: 32, 9: 26})"
      ]
     },
     "execution_count": 41,
     "metadata": {},
     "output_type": "execute_result"
    }
   ],
   "source": [
    "(Counter([len(v) for v in adj.values()]))"
   ]
  },
  {
   "cell_type": "code",
   "execution_count": 42,
   "metadata": {},
   "outputs": [
    {
     "data": {
      "text/plain": [
       "<matplotlib.axes._subplots.AxesSubplot at 0x7f46aa7690f0>"
      ]
     },
     "execution_count": 42,
     "metadata": {},
     "output_type": "execute_result"
    },
    {
     "data": {
      "image/png": "[encoded data removed]",
      "text/plain": [
       "<Figure size 432x288 with 1 Axes>"
      ]
     },
     "metadata": {
      "needs_background": "light"
     },
     "output_type": "display_data"
    }
   ],
   "source": [
    "sns.countplot([len(v) for v in adj.values()], color='k', alpha=0.5)"
   ]
  },
  {
   "cell_type": "code",
   "execution_count": 43,
   "metadata": {},
   "outputs": [
    {
     "data": {
      "text/plain": [
       "tensor([-3.6574e-05,  6.8414e-06,  7.9119e-05,  2.7332e-05, -6.7489e-05,\n",
       "        -6.8313e-05, -3.5115e-05, -7.4745e-05, -4.4043e-05,  3.3197e-05,\n",
       "        -7.3887e-05,  5.5218e-05, -4.4537e-05,  7.0840e-05,  6.6370e-05,\n",
       "         4.9938e-05, -5.6687e-05,  5.2993e-05,  4.4430e-05, -7.0127e-05])"
      ]
     },
     "execution_count": 43,
     "metadata": {},
     "output_type": "execute_result"
    }
   ],
   "source": [
    "model.state_dict()['lt.weight'][0]"
   ]
  },
  {
   "cell_type": "code",
   "execution_count": 146,
   "metadata": {},
   "outputs": [
    {
     "data": {
      "text/plain": [
       "(tensor([-6.1642e-05, -3.2696e-05,  7.2417e-05, -2.0239e-05,  6.5140e-05,\n",
       "         -8.1950e-05, -2.8843e-05,  8.3088e-05,  8.4223e-05,  3.5610e-05,\n",
       "          9.3513e-05,  5.2176e-05,  4.1561e-05,  3.1950e-05,  9.9732e-05,\n",
       "          9.8092e-05, -7.6160e-05,  2.6897e-05, -1.0316e-06, -3.1881e-05]),\n",
       " torch.Size([1180, 20]))"
      ]
     },
     "execution_count": 146,
     "metadata": {},
     "output_type": "execute_result"
    }
   ],
   "source": [
    "model.lt.weight.data[0], model.lt.weight.data.shape"
   ]
  },
  {
   "cell_type": "code",
   "execution_count": 51,
   "metadata": {},
   "outputs": [
    {
     "data": {
      "text/plain": [
       "(torch.Size([1180, 20]), 20, False)"
      ]
     },
     "execution_count": 51,
     "metadata": {},
     "output_type": "execute_result"
    }
   ],
   "source": [
    "lt = model.w_avg if hasattr(model, 'w_avg') else model.lt.weight.data\n",
    "d = lt.size(-1)\n",
    "lt.shape, d, hasattr(model, 'w_avg')"
   ]
  },
  {
   "cell_type": "code",
   "execution_count": 152,
   "metadata": {},
   "outputs": [
    {
     "data": {
      "text/plain": [
       "torch.Size([1180, 20])"
      ]
     },
     "execution_count": 152,
     "metadata": {},
     "output_type": "execute_result"
    }
   ],
   "source": [
    "lt.view(-1, d).shape"
   ]
  },
  {
   "cell_type": "code",
   "execution_count": 153,
   "metadata": {},
   "outputs": [],
   "source": [
    "ha = torch.randn((5,5,5))"
   ]
  },
  {
   "cell_type": "code",
   "execution_count": 157,
   "metadata": {},
   "outputs": [
    {
     "data": {
      "text/plain": [
       "torch.Size([25, 5])"
      ]
     },
     "execution_count": 157,
     "metadata": {},
     "output_type": "execute_result"
    }
   ],
   "source": [
    "ha.view(-1,5).shape"
   ]
  },
  {
   "cell_type": "code",
   "execution_count": 53,
   "metadata": {},
   "outputs": [],
   "source": [
    "from torch.utils import data as torch_data"
   ]
  },
  {
   "cell_type": "code",
   "execution_count": 54,
   "metadata": {},
   "outputs": [
    {
     "data": {
      "text/plain": [
       "False"
      ]
     },
     "execution_count": 54,
     "metadata": {},
     "output_type": "execute_result"
    }
   ],
   "source": [
    "isinstance(data, torch_data.Dataset)"
   ]
  },
  {
   "cell_type": "code",
   "execution_count": 55,
   "metadata": {},
   "outputs": [
    {
     "data": {
      "text/plain": [
       "1180"
      ]
     },
     "execution_count": 55,
     "metadata": {},
     "output_type": "execute_result"
    }
   ],
   "source": [
    "model.nobjects"
   ]
  },
  {
   "cell_type": "code",
   "execution_count": 58,
   "metadata": {},
   "outputs": [
    {
     "data": {
      "text/plain": [
       "torch.Size([1180, 1])"
      ]
     },
     "execution_count": 58,
     "metadata": {},
     "output_type": "execute_result"
    }
   ],
   "source": [
    "counts = th.zeros(model.nobjects, 1).to(device)\n",
    "counts.shape"
   ]
  },
  {
   "cell_type": "code",
   "execution_count": 61,
   "metadata": {},
   "outputs": [
    {
     "data": {
      "text/plain": [
       "(False, False)"
      ]
     },
     "execution_count": 61,
     "metadata": {},
     "output_type": "execute_result"
    }
   ],
   "source": [
    "hasattr(data, 'avg_queue_size'), hasattr(opt, 'asgd')"
   ]
  },
  {
   "cell_type": "code",
   "execution_count": 64,
   "metadata": {},
   "outputs": [],
   "source": [
    "loader = data\n",
    "loader_iter = loader"
   ]
  },
  {
   "cell_type": "code",
   "execution_count": 66,
   "metadata": {},
   "outputs": [],
   "source": [
    "for i_batch, (inputs, targets) in enumerate(loader_iter):\n",
    "    inputs = inputs.to(device)\n",
    "    targets = targets.to(device)\n",
    "    break"
   ]
  },
  {
   "cell_type": "code",
   "execution_count": 68,
   "metadata": {},
   "outputs": [
    {
     "data": {
      "text/plain": [
       "(torch.Size([10, 52]), torch.Size([10]))"
      ]
     },
     "execution_count": 68,
     "metadata": {},
     "output_type": "execute_result"
    }
   ],
   "source": [
    "inputs.shape, targets.shape"
   ]
  },
  {
   "cell_type": "code",
   "execution_count": 71,
   "metadata": {},
   "outputs": [
    {
     "data": {
      "text/plain": [
       "torch.Size([10, 52])"
      ]
     },
     "execution_count": 71,
     "metadata": {},
     "output_type": "execute_result"
    }
   ],
   "source": [
    "inputs.shape"
   ]
  },
  {
   "cell_type": "code",
   "execution_count": 145,
   "metadata": {},
   "outputs": [
    {
     "data": {
      "text/plain": [
       "torch.Size([10, 52, 20])"
      ]
     },
     "execution_count": 145,
     "metadata": {},
     "output_type": "execute_result"
    }
   ],
   "source": [
    "e = model.lt(inputs)\n",
    "e.shape"
   ]
  },
  {
   "cell_type": "code",
   "execution_count": 90,
   "metadata": {},
   "outputs": [],
   "source": [
    "f = model.manifold.normalize(e)"
   ]
  },
  {
   "cell_type": "code",
   "execution_count": 146,
   "metadata": {},
   "outputs": [
    {
     "data": {
      "text/plain": [
       "(tensor([-8.9042e-05, -8.9023e-05,  3.9739e-05,  4.2959e-05,  5.6381e-05,\n",
       "          9.1030e-05, -3.7944e-05, -2.4798e-06, -6.7622e-05,  1.1056e-05,\n",
       "         -1.4679e-05,  6.0555e-05,  1.1933e-07,  3.4342e-05, -3.8167e-05,\n",
       "          7.9373e-05,  3.3009e-05, -5.0486e-06, -2.9278e-05, -5.5729e-05],\n",
       "        grad_fn=<SliceBackward>),\n",
       " tensor([-8.9042e-05, -8.9023e-05,  3.9739e-05,  4.2959e-05,  5.6381e-05,\n",
       "          9.1030e-05, -3.7944e-05, -2.4798e-06, -6.7622e-05,  1.1056e-05,\n",
       "         -1.4679e-05,  6.0555e-05,  1.1933e-07,  3.4342e-05, -3.8167e-05,\n",
       "          7.9373e-05,  3.3009e-05, -5.0486e-06, -2.9278e-05, -5.5729e-05],\n",
       "        grad_fn=<SliceBackward>))"
      ]
     },
     "execution_count": 146,
     "metadata": {},
     "output_type": "execute_result"
    }
   ],
   "source": [
    "e[0,0,:], f[0,0,:]"
   ]
  },
  {
   "cell_type": "code",
   "execution_count": 174,
   "metadata": {},
   "outputs": [
    {
     "data": {
      "text/plain": [
       "tensor(1, dtype=torch.uint8)"
      ]
     },
     "execution_count": 174,
     "metadata": {},
     "output_type": "execute_result"
    }
   ],
   "source": [
    "torch.all(e == f)"
   ]
  },
  {
   "cell_type": "code",
   "execution_count": 91,
   "metadata": {},
   "outputs": [
    {
     "data": {
      "text/plain": [
       "torch.Size([10, 52, 20])"
      ]
     },
     "execution_count": 91,
     "metadata": {},
     "output_type": "execute_result"
    }
   ],
   "source": [
    "f.shape"
   ]
  },
  {
   "cell_type": "code",
   "execution_count": 176,
   "metadata": {},
   "outputs": [],
   "source": [
    "with th.no_grad():\n",
    "    e = model.manifold.normalize(e)"
   ]
  },
  {
   "cell_type": "code",
   "execution_count": 179,
   "metadata": {},
   "outputs": [
    {
     "data": {
      "text/plain": [
       "torch.Size([10, 51, 20])"
      ]
     },
     "execution_count": 179,
     "metadata": {},
     "output_type": "execute_result"
    }
   ],
   "source": [
    "e.narrow(1, 1, e.size(1) - 1).shape"
   ]
  },
  {
   "cell_type": "code",
   "execution_count": 181,
   "metadata": {},
   "outputs": [
    {
     "data": {
      "text/plain": [
       "torch.Size([10, 1, 20])"
      ]
     },
     "execution_count": 181,
     "metadata": {},
     "output_type": "execute_result"
    }
   ],
   "source": [
    "e.narrow(1, 0, 1).shape"
   ]
  },
  {
   "cell_type": "code",
   "execution_count": 185,
   "metadata": {},
   "outputs": [
    {
     "data": {
      "text/plain": [
       "tensor([-8.9042e-05, -8.9023e-05,  3.9739e-05,  4.2959e-05,  5.6381e-05,\n",
       "         9.1030e-05, -3.7944e-05, -2.4798e-06, -6.7622e-05,  1.1056e-05,\n",
       "        -1.4679e-05,  6.0555e-05,  1.1933e-07,  3.4342e-05, -3.8167e-05,\n",
       "         7.9373e-05,  3.3009e-05, -5.0486e-06, -2.9278e-05, -5.5729e-05],\n",
       "       grad_fn=<SelectBackward>)"
      ]
     },
     "execution_count": 185,
     "metadata": {},
     "output_type": "execute_result"
    }
   ],
   "source": [
    "e[0][0]"
   ]
  },
  {
   "cell_type": "code",
   "execution_count": 182,
   "metadata": {},
   "outputs": [
    {
     "data": {
      "text/plain": [
       "tensor([[-8.9042e-05, -8.9023e-05,  3.9739e-05,  4.2959e-05,  5.6381e-05,\n",
       "          9.1030e-05, -3.7944e-05, -2.4798e-06, -6.7622e-05,  1.1056e-05,\n",
       "         -1.4679e-05,  6.0555e-05,  1.1933e-07,  3.4342e-05, -3.8167e-05,\n",
       "          7.9373e-05,  3.3009e-05, -5.0486e-06, -2.9278e-05, -5.5729e-05]],\n",
       "       grad_fn=<SelectBackward>)"
      ]
     },
     "execution_count": 182,
     "metadata": {},
     "output_type": "execute_result"
    }
   ],
   "source": [
    "e.narrow(1, 0, 1)[0]"
   ]
  },
  {
   "cell_type": "code",
   "execution_count": 187,
   "metadata": {},
   "outputs": [],
   "source": [
    "o = e.narrow(1, 1, e.size(1) - 1)\n",
    "s = e.narrow(1, 0, 1).expand_as(o)"
   ]
  },
  {
   "cell_type": "code",
   "execution_count": 197,
   "metadata": {},
   "outputs": [
    {
     "data": {
      "text/plain": [
       "torch.Size([10, 51, 20])"
      ]
     },
     "execution_count": 197,
     "metadata": {},
     "output_type": "execute_result"
    }
   ],
   "source": [
    "s.shape"
   ]
  },
  {
   "cell_type": "code",
   "execution_count": 198,
   "metadata": {},
   "outputs": [
    {
     "data": {
      "text/plain": [
       "tensor([[-8.9042e-05, -8.9023e-05,  3.9739e-05,  4.2959e-05,  5.6381e-05,\n",
       "          9.1030e-05, -3.7944e-05, -2.4798e-06, -6.7622e-05,  1.1056e-05,\n",
       "         -1.4679e-05,  6.0555e-05,  1.1933e-07,  3.4342e-05, -3.8167e-05,\n",
       "          7.9373e-05,  3.3009e-05, -5.0486e-06, -2.9278e-05, -5.5729e-05],\n",
       "        [-8.9042e-05, -8.9023e-05,  3.9739e-05,  4.2959e-05,  5.6381e-05,\n",
       "          9.1030e-05, -3.7944e-05, -2.4798e-06, -6.7622e-05,  1.1056e-05,\n",
       "         -1.4679e-05,  6.0555e-05,  1.1933e-07,  3.4342e-05, -3.8167e-05,\n",
       "          7.9373e-05,  3.3009e-05, -5.0486e-06, -2.9278e-05, -5.5729e-05]],\n",
       "       grad_fn=<SliceBackward>)"
      ]
     },
     "execution_count": 198,
     "metadata": {},
     "output_type": "execute_result"
    }
   ],
   "source": [
    "s[0][:2][:5]"
   ]
  },
  {
   "cell_type": "code",
   "execution_count": 208,
   "metadata": {},
   "outputs": [],
   "source": [
    "dists = model.dist(s, o).squeeze(-1)"
   ]
  },
  {
   "cell_type": "code",
   "execution_count": 211,
   "metadata": {},
   "outputs": [
    {
     "data": {
      "text/plain": [
       "tensor(1.0085e-07, grad_fn=<SelectBackward>)"
      ]
     },
     "execution_count": 211,
     "metadata": {},
     "output_type": "execute_result"
    }
   ],
   "source": [
    "dists[0][1]"
   ]
  },
  {
   "cell_type": "code",
   "execution_count": 209,
   "metadata": {},
   "outputs": [
    {
     "data": {
      "text/plain": [
       "torch.Size([10, 51])"
      ]
     },
     "execution_count": 209,
     "metadata": {},
     "output_type": "execute_result"
    }
   ],
   "source": [
    "dists.shape"
   ]
  },
  {
   "cell_type": "code",
   "execution_count": 72,
   "metadata": {},
   "outputs": [],
   "source": [
    "preds = model(inputs)"
   ]
  },
  {
   "cell_type": "code",
   "execution_count": 86,
   "metadata": {},
   "outputs": [
    {
     "data": {
      "text/plain": [
       "torch.Size([10, 51])"
      ]
     },
     "execution_count": 86,
     "metadata": {},
     "output_type": "execute_result"
    }
   ],
   "source": [
    "preds.shape"
   ]
  },
  {
   "cell_type": "code",
   "execution_count": 75,
   "metadata": {},
   "outputs": [
    {
     "data": {
      "text/plain": [
       "tensor([-1.0990e-07, -1.0085e-07, -1.2913e-07, -1.7251e-07, -1.0660e-07,\n",
       "        -9.1251e-08, -8.0313e-08, -8.4797e-08, -8.2516e-08, -1.4333e-07,\n",
       "        -1.1134e-07, -1.3206e-07, -1.4894e-07, -1.1647e-07, -1.3862e-07,\n",
       "        -1.4654e-07, -1.5819e-07, -1.3007e-07, -1.7866e-07, -1.4782e-07,\n",
       "        -1.0574e-07, -1.3597e-07, -1.4050e-07, -1.1529e-07, -1.2968e-07,\n",
       "        -1.3894e-07, -1.9336e-07, -1.2252e-07, -1.4715e-07, -1.7191e-07,\n",
       "        -1.5287e-07, -1.3140e-07, -1.0668e-07, -1.7442e-07, -1.0453e-07,\n",
       "        -9.9535e-08, -1.2608e-07, -1.7767e-07, -9.9174e-08, -1.3276e-07,\n",
       "        -1.1570e-07, -1.4056e-07, -1.4479e-07, -1.0988e-07, -4.3901e-08,\n",
       "        -1.2366e-07, -1.1937e-07, -1.4813e-07, -1.1280e-07, -9.8269e-08,\n",
       "        -1.3287e-07], grad_fn=<SelectBackward>)"
      ]
     },
     "execution_count": 75,
     "metadata": {},
     "output_type": "execute_result"
    }
   ],
   "source": [
    "preds[0]"
   ]
  },
  {
   "cell_type": "code",
   "execution_count": 78,
   "metadata": {},
   "outputs": [
    {
     "data": {
      "text/plain": [
       "<function torch.nn.functional.cross_entropy(input, target, weight=None, size_average=None, ignore_index=-100, reduce=None, reduction='mean')>"
      ]
     },
     "execution_count": 78,
     "metadata": {},
     "output_type": "execute_result"
    }
   ],
   "source": [
    "model.lossfn"
   ]
  },
  {
   "cell_type": "code",
   "execution_count": 87,
   "metadata": {},
   "outputs": [
    {
     "data": {
      "text/plain": [
       "<bound method Embedding.forward of Embedding(\n",
       "  (lt): Embedding(1180, 20, sparse=True)\n",
       ")>"
      ]
     },
     "execution_count": 87,
     "metadata": {},
     "output_type": "execute_result"
    }
   ],
   "source": [
    "model.forward"
   ]
  },
  {
   "cell_type": "code",
   "execution_count": 106,
   "metadata": {},
   "outputs": [
    {
     "data": {
      "text/plain": [
       "torch.Size([20])"
      ]
     },
     "execution_count": 106,
     "metadata": {},
     "output_type": "execute_result"
    }
   ],
   "source": [
    "x = torch.randn(10, 5, 20)\n",
    "d = x.size(-1)\n",
    "x.view(-1, d).sum(0).shape"
   ]
  },
  {
   "cell_type": "code",
   "execution_count": 161,
   "metadata": {},
   "outputs": [
    {
     "data": {
      "text/plain": [
       "(torch.Size([4, 3]), tensor([[1., 1., 1.],\n",
       "         [2., 3., 4.],\n",
       "         [4., 5., 6.],\n",
       "         [7., 8., 9.]]))"
      ]
     },
     "execution_count": 161,
     "metadata": {},
     "output_type": "execute_result"
    }
   ],
   "source": [
    "x = torch.ones(4, 3)\n",
    "x[1] = torch.DoubleTensor([2,3,4])\n",
    "x[2] = torch.DoubleTensor([4,5,6])\n",
    "x[3] = torch.DoubleTensor([7,8,9])\n",
    "x.shape, x"
   ]
  },
  {
   "cell_type": "code",
   "execution_count": 162,
   "metadata": {},
   "outputs": [],
   "source": [
    "x_norm = torch.renorm(x, 2, 0, 3)"
   ]
  },
  {
   "cell_type": "code",
   "execution_count": 165,
   "metadata": {},
   "outputs": [
    {
     "data": {
      "text/plain": [
       "tensor([ 1.7321,  5.3852,  8.7750, 13.9284])"
      ]
     },
     "execution_count": 165,
     "metadata": {},
     "output_type": "execute_result"
    }
   ],
   "source": [
    "torch.norm(x, 2, 1)"
   ]
  },
  {
   "cell_type": "code",
   "execution_count": 166,
   "metadata": {},
   "outputs": [
    {
     "data": {
      "text/plain": [
       "tensor(9.9499)"
      ]
     },
     "execution_count": 166,
     "metadata": {},
     "output_type": "execute_result"
    }
   ],
   "source": [
    "(x[:,1]*x[:,1]).sum(-1).sqrt()"
   ]
  },
  {
   "cell_type": "code",
   "execution_count": 171,
   "metadata": {},
   "outputs": [
    {
     "data": {
      "text/plain": [
       "tensor([1.7321, 3.0000, 3.0000, 3.0000])"
      ]
     },
     "execution_count": 171,
     "metadata": {},
     "output_type": "execute_result"
    }
   ],
   "source": [
    "torch.norm(x_norm, 2, 1)"
   ]
  },
  {
   "cell_type": "code",
   "execution_count": 168,
   "metadata": {},
   "outputs": [
    {
     "data": {
      "text/plain": [
       "tensor([[1.0000, 1.0000, 1.0000],\n",
       "        [1.1142, 1.6713, 2.2283],\n",
       "        [1.3675, 1.7094, 2.0513],\n",
       "        [1.5077, 1.7231, 1.9385]])"
      ]
     },
     "execution_count": 168,
     "metadata": {},
     "output_type": "execute_result"
    }
   ],
   "source": [
    "x_norm"
   ]
  },
  {
   "cell_type": "code",
   "execution_count": 158,
   "metadata": {},
   "outputs": [
    {
     "data": {
      "text/plain": [
       "tensor(3.0000)"
      ]
     },
     "execution_count": 158,
     "metadata": {},
     "output_type": "execute_result"
    }
   ],
   "source": [
    "(x_norm[:,2]*x_norm[:,2]).sum(-1).sqrt()"
   ]
  },
  {
   "cell_type": "code",
   "execution_count": 170,
   "metadata": {},
   "outputs": [
    {
     "data": {
      "text/plain": [
       "tensor([1.7321, 2.2391, 2.2646, 2.2736])"
      ]
     },
     "execution_count": 170,
     "metadata": {},
     "output_type": "execute_result"
    }
   ],
   "source": [
    "(x_norm[0,:]*x_norm[0:]).sum(-1).sqrt()"
   ]
  },
  {
   "cell_type": "code",
   "execution_count": 173,
   "metadata": {},
   "outputs": [
    {
     "data": {
      "text/plain": [
       "'\\nCode normalizes along the row: each of the embedding dimension ... \\nTherefore the p-norm for each vector < max norm\\n'"
      ]
     },
     "execution_count": 173,
     "metadata": {},
     "output_type": "execute_result"
    }
   ],
   "source": [
    "'''\n",
    "Code normalizes along the row: each of the embedding dimension ... \n",
    "Therefore the p-norm for each vector < max norm\n",
    "'''"
   ]
  },
  {
   "cell_type": "code",
   "execution_count": null,
   "metadata": {},
   "outputs": [],
   "source": []
  }
 ],
 "metadata": {
  "kernelspec": {
   "display_name": "Python 3",
   "language": "python",
   "name": "python3"
  },
  "language_info": {
   "codemirror_mode": {
    "name": "ipython",
    "version": 3
   },
   "file_extension": ".py",
   "mimetype": "text/x-python",
   "name": "python",
   "nbconvert_exporter": "python",
   "pygments_lexer": "ipython3",
   "version": "3.6.8"
  }
 },
 "nbformat": 4,
 "nbformat_minor": 2
}
